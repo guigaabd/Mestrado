{
 "cells": [
  {
   "cell_type": "code",
   "execution_count": 4,
   "metadata": {},
   "outputs": [],
   "source": [
    "import numpy as np\n",
    "import sympy as sp"
   ]
  },
  {
   "cell_type": "code",
   "execution_count": 5,
   "metadata": {},
   "outputs": [],
   "source": [
    "#variaveis\n",
    "Ca0     = 8\n",
    "V       = 1.36\n",
    "To      = 294.7\n",
    "Vj      = 0.085\n",
    "alpha   = 7.08e10\n",
    "E       = 69815\n",
    "U       = 3065\n",
    "A       = 23.22\n",
    "Tjo     = 294.7\n",
    "R       = 8.314\n",
    "H       = 69815\n",
    "cp      = 3.13\n",
    "cpj     = 4.18\n",
    "r       = 800\n",
    "rj      = 1000\n",
    "\n",
    "#U de equilibrio\n",
    "F0      = 1.13\n",
    "Fj      = 1.41\n",
    "\n"
   ]
  },
  {
   "cell_type": "code",
   "execution_count": 6,
   "metadata": {},
   "outputs": [],
   "source": [
    "Ca, T, Tj = sp.symbols('Ca T Tj')"
   ]
  },
  {
   "cell_type": "code",
   "execution_count": 7,
   "metadata": {},
   "outputs": [],
   "source": [
    "equation_list = list()\n",
    "equation_list.append(sp.Eq((F0/V)*(Ca0 - Ca) - \n",
    "                        alpha*sp.exp(-E/(R*T)), 0));\n",
    "equation_list.append(sp.Eq((F0/V)*(Tjo - T) - \n",
    "                        (H*alpha/(r*cp))*Ca*sp.exp(-E/(R*T)) -\n",
    "                        (U*A/(r*cp*V))*(T - Tj), 0));\n",
    "equation_list.append(sp.Eq((Fj/Vj)*(Tjo - Tj) + \n",
    "                        (U*A/(rj*cpj*Vj))*(T - Tj), 0));"
   ]
  },
  {
   "cell_type": "code",
   "execution_count": 8,
   "metadata": {},
   "outputs": [
    {
     "data": {
      "text/latex": [
       "$\\displaystyle - 0.830882352941176 Ca + 6.64705882352941 - 70800000000.0 e^{- \\frac{8397.28169352899}{T}} = 0$"
      ],
      "text/plain": [
       "Eq(-0.830882352941176*Ca + 6.64705882352941 - 70800000000.0*exp(-8397.28169352899/T), 0)"
      ]
     },
     "execution_count": 8,
     "metadata": {},
     "output_type": "execute_result"
    }
   ],
   "source": [
    "equation_list[0]"
   ]
  },
  {
   "cell_type": "code",
   "execution_count": 9,
   "metadata": {},
   "outputs": [
    {
     "data": {
      "text/latex": [
       "$\\displaystyle - 1974002396166.13 Ca e^{- \\frac{8397.28169352899}{T}} - 21.7295914771659 T + 20.8987091242248 Tj + 244.861029411765 = 0$"
      ],
      "text/plain": [
       "Eq(-1974002396166.13*Ca*exp(-8397.28169352899/T) - 21.7295914771659*T + 20.8987091242248*Tj + 244.861029411765, 0)"
      ]
     },
     "execution_count": 9,
     "metadata": {},
     "output_type": "execute_result"
    }
   ],
   "source": [
    "equation_list[1]"
   ]
  },
  {
   "cell_type": "code",
   "execution_count": 10,
   "metadata": {},
   "outputs": [
    {
     "data": {
      "text/latex": [
       "$\\displaystyle 200.307627357163 T - 216.895862651281 Tj + 4888.55294117647 = 0$"
      ],
      "text/plain": [
       "Eq(200.307627357163*T - 216.895862651281*Tj + 4888.55294117647, 0)"
      ]
     },
     "execution_count": 10,
     "metadata": {},
     "output_type": "execute_result"
    }
   ],
   "source": [
    "equation_list[2]"
   ]
  },
  {
   "cell_type": "code",
   "execution_count": 11,
   "metadata": {},
   "outputs": [
    {
     "data": {
      "text/latex": [
       "$\\displaystyle \\left[\\begin{matrix}7.97100571711907\\\\292.495994393591\\\\292.664557145973\\end{matrix}\\right]$"
      ],
      "text/plain": [
       "Matrix([\n",
       "[7.97100571711907],\n",
       "[292.495994393591],\n",
       "[292.664557145973]])"
      ]
     },
     "execution_count": 11,
     "metadata": {},
     "output_type": "execute_result"
    }
   ],
   "source": [
    "sp.nsolve(equation_list, [Ca, T, Tj], [1, 1, 1])"
   ]
  },
  {
   "cell_type": "code",
   "execution_count": null,
   "metadata": {},
   "outputs": [],
   "source": []
  }
 ],
 "metadata": {
  "kernelspec": {
   "display_name": "Python 3",
   "language": "python",
   "name": "python3"
  },
  "language_info": {
   "codemirror_mode": {
    "name": "ipython",
    "version": 3
   },
   "file_extension": ".py",
   "mimetype": "text/x-python",
   "name": "python",
   "nbconvert_exporter": "python",
   "pygments_lexer": "ipython3",
   "version": "3.12.1"
  }
 },
 "nbformat": 4,
 "nbformat_minor": 2
}
